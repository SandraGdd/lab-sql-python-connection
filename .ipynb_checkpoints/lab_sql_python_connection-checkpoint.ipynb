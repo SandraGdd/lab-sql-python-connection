{
 "cells": [
  {
   "cell_type": "code",
   "execution_count": 7,
   "id": "2d52884a-8e62-4f71-8a22-877c96cc3802",
   "metadata": {},
   "outputs": [
    {
     "name": "stdin",
     "output_type": "stream",
     "text": [
      " ········\n"
     ]
    }
   ],
   "source": [
    "import pandas as pd\n",
    "import numpy as np\n",
    "import pymysql\n",
    "from sqlalchemy import create_engine\n",
    "import getpass  # To get the password without showing the input\n",
    "from sqlalchemy import text\n",
    "password = getpass.getpass()"
   ]
  },
  {
   "cell_type": "code",
   "execution_count": 15,
   "id": "5f10d5b2-7f3f-479a-b2a3-07ec63fea12c",
   "metadata": {},
   "outputs": [
    {
     "name": "stdout",
     "output_type": "stream",
     "text": [
      "<sqlalchemy.engine.cursor.CursorResult object at 0x12d5b8de0>\n"
     ]
    }
   ],
   "source": [
    "# create connection\n",
    "\n",
    "db = \"sakila\"\n",
    "connection_string = 'mysql+pymysql://root:' + password + '@localhost/' + db\n",
    "engine = create_engine(connection_string)\n",
    "\n",
    "with engine.connect() as connection:\n",
    "    query = text('SELECT * FROM film')\n",
    "    result = connection.execute(query)\n",
    "\n",
    "print(result)"
   ]
  },
  {
   "cell_type": "markdown",
   "id": "6d00423e-4b80-4af7-af62-e79b6aa256ca",
   "metadata": {},
   "source": [
    "2)\n",
    "Write a Python function called rentals_month that retrieves rental data for a given month and year (passed as parameters) from the Sakila database as a Pandas DataFrame. The function should take in three parameters:\n",
    "\n",
    "engine: an object representing the database connection engine to be used to establish a connection to the Sakila database.\n",
    "month: an integer representing the month for which rental data is to be retrieved.\n",
    "year: an integer representing the year for which rental data is to be retrieved.\n",
    "The function should execute a SQL query to retrieve the rental data for the specified month and year from the rental table in the Sakila database, and return it as a pandas DataFrame."
   ]
  },
  {
   "cell_type": "code",
   "execution_count": 60,
   "id": "00e867c8-2563-425a-aaca-6a319807b003",
   "metadata": {},
   "outputs": [
    {
     "name": "stdout",
     "output_type": "stream",
     "text": [
      "                  title         rental_date  rental_id  inventory_id  \\\n",
      "0      ACADEMY DINOSAUR 2005-05-30 20:21:07        972             2   \n",
      "1      ACADEMY DINOSAUR 2005-05-27 07:03:28        361             6   \n",
      "2      ADAPTATION HOLES 2005-05-31 04:50:07       1033            14   \n",
      "3      AFFAIR PREJUDICE 2005-05-31 00:06:02        995            17   \n",
      "4      AFFAIR PREJUDICE 2005-05-27 20:44:36        465            20   \n",
      "...                 ...                 ...        ...           ...   \n",
      "1151       ZHIVAGO CORE 2005-05-30 05:15:20        873          4568   \n",
      "1152  ZOOLANDER FICTION 2005-05-30 05:01:30        871          4573   \n",
      "1153          ZORRO ARK 2005-05-31 11:10:17       1084          4577   \n",
      "1154          ZORRO ARK 2005-05-28 11:33:46        582          4579   \n",
      "1155          ZORRO ARK 2005-05-29 03:49:03        711          4581   \n",
      "\n",
      "      customer_id         return_date  staff_id  \n",
      "0             411 2005-06-06 00:36:07         1  \n",
      "1             587 2005-05-31 08:01:28         1  \n",
      "2              25 2005-06-02 01:53:07         1  \n",
      "3             150 2005-06-06 02:30:02         2  \n",
      "4             261 2005-06-02 02:43:36         1  \n",
      "...           ...                 ...       ...  \n",
      "1151          375 2005-06-07 00:49:20         2  \n",
      "1152          303 2005-06-04 06:22:30         2  \n",
      "1153           12 2005-06-01 11:15:17         1  \n",
      "1154          198 2005-05-29 08:33:46         1  \n",
      "1155          215 2005-05-31 08:29:03         2  \n",
      "\n",
      "[1156 rows x 7 columns]\n"
     ]
    }
   ],
   "source": [
    "def rentals_month(engine, month, year):\n",
    "    with engine.connect() as connection:  # Use connection instead of enigine\n",
    "        '''\n",
    "        Retrieves rental data for a given month and year from the Sakila DB as a Pandas DataFrame.\n",
    "        '''\n",
    "        txt = f'''\n",
    "            SELECT title, rental_date, rental_id, inventory_id, customer_id, return_date, staff_id\n",
    "            FROM rental\n",
    "            JOIN inventory\n",
    "            USING(inventory_id)\n",
    "            JOIN film\n",
    "            USING (film_id)\n",
    "            WHERE YEAR(rental_date) = {year} AND MONTH(rental_date) = {month};\n",
    "        '''\n",
    "        query = text(txt)\n",
    "        result = connection.execute(query)\n",
    "        return pd.DataFrame(result.all())\n",
    "\n",
    "df = rentals_month(engine, 5, 2005)\n",
    "print(df)"
   ]
  },
  {
   "cell_type": "markdown",
   "id": "49991b5f-bfa2-49c6-afc4-7b02389b2308",
   "metadata": {},
   "source": [
    "3. Develop a Python function called rental_count_month that takes the DataFrame provided by rentals_month as input along with the month and year and returns a new DataFrame containing the number of rentals made by each customer_id during the selected month and year."
   ]
  },
  {
   "cell_type": "code",
   "execution_count": 44,
   "id": "cd2a8ec0-a8ba-4262-b83b-74149e04d013",
   "metadata": {},
   "outputs": [
    {
     "name": "stdout",
     "output_type": "stream",
     "text": [
      "     customer_id  rentals_05_2005\n",
      "0              1                2\n",
      "1              2                1\n",
      "2              3                2\n",
      "3              5                3\n",
      "4              6                3\n",
      "..           ...              ...\n",
      "515          594                4\n",
      "516          595                1\n",
      "517          596                6\n",
      "518          597                2\n",
      "519          599                1\n",
      "\n",
      "[520 rows x 2 columns]\n"
     ]
    }
   ],
   "source": [
    "def rental_count_month(df, month, year):\n",
    "    rental_count_df = df.groupby('customer_id').size().reset_index(name=f'rentals_{month:02d}_{year}')\n",
    "    return rental_count_df\n",
    "df_rental_counts = rental_count_month(df, 5, 2005)\n",
    "print(df_rental_counts)"
   ]
  },
  {
   "cell_type": "markdown",
   "id": "28c3803c-fa54-4179-843d-0646f83c190f",
   "metadata": {},
   "source": [
    "4. Create a Python function called compare_rentals that takes two DataFrames as input containing the number of rentals made by each customer in different months and years. The function should return a combined DataFrame with a new 'difference' column, which is the difference between the number of rentals in the two months."
   ]
  },
  {
   "cell_type": "code",
   "execution_count": 68,
   "id": "7bf4fdfc-a13d-45ca-aabf-2aef976d797f",
   "metadata": {},
   "outputs": [
    {
     "name": "stderr",
     "output_type": "stream",
     "text": [
      "/var/folders/jr/tzjk1k550jnfd3ck0z2tl_nr0000gn/T/ipykernel_915/3496634572.py:6: FutureWarning: Setting an item of incompatible dtype is deprecated and will raise in a future error of pandas. Value '0       1117020637000000000\n",
      "1       1117276523000000000\n",
      "2       1117152564000000000\n",
      "3       1117214229000000000\n",
      "4       1117406635000000000\n",
      "               ...         \n",
      "1151    1117484922000000000\n",
      "1152    1117298146000000000\n",
      "1153    1117249768000000000\n",
      "1154    1116994768000000000\n",
      "1155    1117502336000000000\n",
      "Name: rental_date, Length: 1156, dtype: int64' has dtype incompatible with datetime64[ns], please explicitly cast to a compatible dtype first.\n",
      "  df_compare_rentals.iloc[:, 1:] = df_compare_rentals.iloc[:, 1:].astype(int)\n",
      "/var/folders/jr/tzjk1k550jnfd3ck0z2tl_nr0000gn/T/ipykernel_915/3496634572.py:6: FutureWarning: Setting an item of incompatible dtype is deprecated and will raise in a future error of pandas. Value '0       1117800037000000000\n",
      "1       1117780343000000000\n",
      "2       1117254624000000000\n",
      "3       1117711209000000000\n",
      "4       1117647835000000000\n",
      "               ...         \n",
      "1151    1118274342000000000\n",
      "1152    1117635586000000000\n",
      "1153    1117932568000000000\n",
      "1154    1117325428000000000\n",
      "1155    1117589096000000000\n",
      "Name: return_date, Length: 1156, dtype: int64' has dtype incompatible with datetime64[ns], please explicitly cast to a compatible dtype first.\n",
      "  df_compare_rentals.iloc[:, 1:] = df_compare_rentals.iloc[:, 1:].astype(int)\n"
     ]
    }
   ],
   "source": [
    "def compare_rentals(df1,df2):\n",
    "    df_compare_rentals= pd.merge(df1, df2, on='customer_id', how='outer').fillna(0)\n",
    "    for col in df_compare_rentals.columns[1:]:  # Gehe alle Spalten ab der zweiten Spalte durch\n",
    "        if pd.api.types.is_numeric_dtype(df_compare_rentals[col]):\n",
    "            df_compare_rentals[col] = df_compare_rentals[col].astype(int)\n",
    "            df_compare_rentals.iloc[:, 1:] = df_compare_rentals.iloc[:, 1:].astype(int)\n",
    "            df_compare_rentals['difference'] = df_compare_rentals.iloc[:, 1] - df_compare_rentals.iloc[:, 2]\n",
    "    \n",
    "    return df_compare_rentals\n",
    "df_comparison= compare_rentals(df, df_rental_counts)"
   ]
  },
  {
   "cell_type": "code",
   "execution_count": 74,
   "id": "1c31d998-0415-406d-922b-e74e50abf410",
   "metadata": {},
   "outputs": [
    {
     "ename": "TypeError",
     "evalue": "Addition/subtraction of integers and integer-arrays with DatetimeArray is no longer supported.  Instead of adding/subtracting `n`, use `n * obj.freq`",
     "output_type": "error",
     "traceback": [
      "\u001b[0;31m---------------------------------------------------------------------------\u001b[0m",
      "\u001b[0;31mTypeError\u001b[0m                                 Traceback (most recent call last)",
      "Cell \u001b[0;32mIn[74], line 12\u001b[0m\n\u001b[1;32m      9\u001b[0m         df_compare_rentals[\u001b[38;5;124m'\u001b[39m\u001b[38;5;124mdifference\u001b[39m\u001b[38;5;124m'\u001b[39m] \u001b[38;5;241m=\u001b[39m df_compare_rentals\u001b[38;5;241m.\u001b[39miloc[:, \u001b[38;5;241m1\u001b[39m] \u001b[38;5;241m-\u001b[39m df_compare_rentals\u001b[38;5;241m.\u001b[39miloc[:, \u001b[38;5;241m2\u001b[39m]\n\u001b[1;32m     10\u001b[0m     \u001b[38;5;28;01mreturn\u001b[39;00m df_compare_rentals\n\u001b[0;32m---> 12\u001b[0m df_comparison \u001b[38;5;241m=\u001b[39m compare_rentals(df, df_rental_counts)\n\u001b[1;32m     14\u001b[0m \u001b[38;5;28mprint\u001b[39m(df_comparison)\n",
      "Cell \u001b[0;32mIn[74], line 9\u001b[0m, in \u001b[0;36mcompare_rentals\u001b[0;34m(df1, df2)\u001b[0m\n\u001b[1;32m      7\u001b[0m         df_compare_rentals[col] \u001b[38;5;241m=\u001b[39m df_compare_rentals[col]\u001b[38;5;241m.\u001b[39mastype(\u001b[38;5;28mint\u001b[39m)\n\u001b[1;32m      8\u001b[0m \u001b[38;5;28;01mif\u001b[39;00m df_compare_rentals\u001b[38;5;241m.\u001b[39mshape[\u001b[38;5;241m1\u001b[39m] \u001b[38;5;241m>\u001b[39m \u001b[38;5;241m2\u001b[39m:\n\u001b[0;32m----> 9\u001b[0m     df_compare_rentals[\u001b[38;5;124m'\u001b[39m\u001b[38;5;124mdifference\u001b[39m\u001b[38;5;124m'\u001b[39m] \u001b[38;5;241m=\u001b[39m df_compare_rentals\u001b[38;5;241m.\u001b[39miloc[:, \u001b[38;5;241m1\u001b[39m] \u001b[38;5;241m-\u001b[39m df_compare_rentals\u001b[38;5;241m.\u001b[39miloc[:, \u001b[38;5;241m2\u001b[39m]\n\u001b[1;32m     10\u001b[0m \u001b[38;5;28;01mreturn\u001b[39;00m df_compare_rentals\n",
      "File \u001b[0;32m/opt/anaconda3/lib/python3.12/site-packages/pandas/core/ops/common.py:76\u001b[0m, in \u001b[0;36m_unpack_zerodim_and_defer.<locals>.new_method\u001b[0;34m(self, other)\u001b[0m\n\u001b[1;32m     72\u001b[0m             \u001b[38;5;28;01mreturn\u001b[39;00m \u001b[38;5;28mNotImplemented\u001b[39m\n\u001b[1;32m     74\u001b[0m other \u001b[38;5;241m=\u001b[39m item_from_zerodim(other)\n\u001b[0;32m---> 76\u001b[0m \u001b[38;5;28;01mreturn\u001b[39;00m method(\u001b[38;5;28mself\u001b[39m, other)\n",
      "File \u001b[0;32m/opt/anaconda3/lib/python3.12/site-packages/pandas/core/arraylike.py:194\u001b[0m, in \u001b[0;36mOpsMixin.__sub__\u001b[0;34m(self, other)\u001b[0m\n\u001b[1;32m    192\u001b[0m \u001b[38;5;129m@unpack_zerodim_and_defer\u001b[39m(\u001b[38;5;124m\"\u001b[39m\u001b[38;5;124m__sub__\u001b[39m\u001b[38;5;124m\"\u001b[39m)\n\u001b[1;32m    193\u001b[0m \u001b[38;5;28;01mdef\u001b[39;00m \u001b[38;5;21m__sub__\u001b[39m(\u001b[38;5;28mself\u001b[39m, other):\n\u001b[0;32m--> 194\u001b[0m     \u001b[38;5;28;01mreturn\u001b[39;00m \u001b[38;5;28mself\u001b[39m\u001b[38;5;241m.\u001b[39m_arith_method(other, operator\u001b[38;5;241m.\u001b[39msub)\n",
      "File \u001b[0;32m/opt/anaconda3/lib/python3.12/site-packages/pandas/core/series.py:6135\u001b[0m, in \u001b[0;36mSeries._arith_method\u001b[0;34m(self, other, op)\u001b[0m\n\u001b[1;32m   6133\u001b[0m \u001b[38;5;28;01mdef\u001b[39;00m \u001b[38;5;21m_arith_method\u001b[39m(\u001b[38;5;28mself\u001b[39m, other, op):\n\u001b[1;32m   6134\u001b[0m     \u001b[38;5;28mself\u001b[39m, other \u001b[38;5;241m=\u001b[39m \u001b[38;5;28mself\u001b[39m\u001b[38;5;241m.\u001b[39m_align_for_op(other)\n\u001b[0;32m-> 6135\u001b[0m     \u001b[38;5;28;01mreturn\u001b[39;00m base\u001b[38;5;241m.\u001b[39mIndexOpsMixin\u001b[38;5;241m.\u001b[39m_arith_method(\u001b[38;5;28mself\u001b[39m, other, op)\n",
      "File \u001b[0;32m/opt/anaconda3/lib/python3.12/site-packages/pandas/core/base.py:1382\u001b[0m, in \u001b[0;36mIndexOpsMixin._arith_method\u001b[0;34m(self, other, op)\u001b[0m\n\u001b[1;32m   1379\u001b[0m     rvalues \u001b[38;5;241m=\u001b[39m np\u001b[38;5;241m.\u001b[39marange(rvalues\u001b[38;5;241m.\u001b[39mstart, rvalues\u001b[38;5;241m.\u001b[39mstop, rvalues\u001b[38;5;241m.\u001b[39mstep)\n\u001b[1;32m   1381\u001b[0m \u001b[38;5;28;01mwith\u001b[39;00m np\u001b[38;5;241m.\u001b[39merrstate(\u001b[38;5;28mall\u001b[39m\u001b[38;5;241m=\u001b[39m\u001b[38;5;124m\"\u001b[39m\u001b[38;5;124mignore\u001b[39m\u001b[38;5;124m\"\u001b[39m):\n\u001b[0;32m-> 1382\u001b[0m     result \u001b[38;5;241m=\u001b[39m ops\u001b[38;5;241m.\u001b[39marithmetic_op(lvalues, rvalues, op)\n\u001b[1;32m   1384\u001b[0m \u001b[38;5;28;01mreturn\u001b[39;00m \u001b[38;5;28mself\u001b[39m\u001b[38;5;241m.\u001b[39m_construct_result(result, name\u001b[38;5;241m=\u001b[39mres_name)\n",
      "File \u001b[0;32m/opt/anaconda3/lib/python3.12/site-packages/pandas/core/ops/array_ops.py:273\u001b[0m, in \u001b[0;36marithmetic_op\u001b[0;34m(left, right, op)\u001b[0m\n\u001b[1;32m    260\u001b[0m \u001b[38;5;66;03m# NB: We assume that extract_array and ensure_wrapped_if_datetimelike\u001b[39;00m\n\u001b[1;32m    261\u001b[0m \u001b[38;5;66;03m#  have already been called on `left` and `right`,\u001b[39;00m\n\u001b[1;32m    262\u001b[0m \u001b[38;5;66;03m#  and `maybe_prepare_scalar_for_op` has already been called on `right`\u001b[39;00m\n\u001b[1;32m    263\u001b[0m \u001b[38;5;66;03m# We need to special-case datetime64/timedelta64 dtypes (e.g. because numpy\u001b[39;00m\n\u001b[1;32m    264\u001b[0m \u001b[38;5;66;03m# casts integer dtypes to timedelta64 when operating with timedelta64 - GH#22390)\u001b[39;00m\n\u001b[1;32m    266\u001b[0m \u001b[38;5;28;01mif\u001b[39;00m (\n\u001b[1;32m    267\u001b[0m     should_extension_dispatch(left, right)\n\u001b[1;32m    268\u001b[0m     \u001b[38;5;129;01mor\u001b[39;00m \u001b[38;5;28misinstance\u001b[39m(right, (Timedelta, BaseOffset, Timestamp))\n\u001b[0;32m   (...)\u001b[0m\n\u001b[1;32m    271\u001b[0m     \u001b[38;5;66;03m# Timedelta/Timestamp and other custom scalars are included in the check\u001b[39;00m\n\u001b[1;32m    272\u001b[0m     \u001b[38;5;66;03m# because numexpr will fail on it, see GH#31457\u001b[39;00m\n\u001b[0;32m--> 273\u001b[0m     res_values \u001b[38;5;241m=\u001b[39m op(left, right)\n\u001b[1;32m    274\u001b[0m \u001b[38;5;28;01melse\u001b[39;00m:\n\u001b[1;32m    275\u001b[0m     \u001b[38;5;66;03m# TODO we should handle EAs consistently and move this check before the if/else\u001b[39;00m\n\u001b[1;32m    276\u001b[0m     \u001b[38;5;66;03m# (https://github.com/pandas-dev/pandas/issues/41165)\u001b[39;00m\n\u001b[1;32m    277\u001b[0m     \u001b[38;5;66;03m# error: Argument 2 to \"_bool_arith_check\" has incompatible type\u001b[39;00m\n\u001b[1;32m    278\u001b[0m     \u001b[38;5;66;03m# \"Union[ExtensionArray, ndarray[Any, Any]]\"; expected \"ndarray[Any, Any]\"\u001b[39;00m\n\u001b[1;32m    279\u001b[0m     _bool_arith_check(op, left, right)  \u001b[38;5;66;03m# type: ignore[arg-type]\u001b[39;00m\n",
      "File \u001b[0;32m/opt/anaconda3/lib/python3.12/site-packages/pandas/core/ops/common.py:76\u001b[0m, in \u001b[0;36m_unpack_zerodim_and_defer.<locals>.new_method\u001b[0;34m(self, other)\u001b[0m\n\u001b[1;32m     72\u001b[0m             \u001b[38;5;28;01mreturn\u001b[39;00m \u001b[38;5;28mNotImplemented\u001b[39m\n\u001b[1;32m     74\u001b[0m other \u001b[38;5;241m=\u001b[39m item_from_zerodim(other)\n\u001b[0;32m---> 76\u001b[0m \u001b[38;5;28;01mreturn\u001b[39;00m method(\u001b[38;5;28mself\u001b[39m, other)\n",
      "File \u001b[0;32m/opt/anaconda3/lib/python3.12/site-packages/pandas/core/arrays/datetimelike.py:1465\u001b[0m, in \u001b[0;36mDatetimeLikeArrayMixin.__sub__\u001b[0;34m(self, other)\u001b[0m\n\u001b[1;32m   1463\u001b[0m \u001b[38;5;28;01melif\u001b[39;00m is_integer_dtype(other_dtype):\n\u001b[1;32m   1464\u001b[0m     \u001b[38;5;28;01mif\u001b[39;00m \u001b[38;5;129;01mnot\u001b[39;00m \u001b[38;5;28misinstance\u001b[39m(\u001b[38;5;28mself\u001b[39m\u001b[38;5;241m.\u001b[39mdtype, PeriodDtype):\n\u001b[0;32m-> 1465\u001b[0m         \u001b[38;5;28;01mraise\u001b[39;00m integer_op_not_supported(\u001b[38;5;28mself\u001b[39m)\n\u001b[1;32m   1466\u001b[0m     obj \u001b[38;5;241m=\u001b[39m cast(\u001b[38;5;124m\"\u001b[39m\u001b[38;5;124mPeriodArray\u001b[39m\u001b[38;5;124m\"\u001b[39m, \u001b[38;5;28mself\u001b[39m)\n\u001b[1;32m   1467\u001b[0m     result \u001b[38;5;241m=\u001b[39m obj\u001b[38;5;241m.\u001b[39m_addsub_int_array_or_scalar(other \u001b[38;5;241m*\u001b[39m obj\u001b[38;5;241m.\u001b[39mdtype\u001b[38;5;241m.\u001b[39m_n, operator\u001b[38;5;241m.\u001b[39msub)\n",
      "\u001b[0;31mTypeError\u001b[0m: Addition/subtraction of integers and integer-arrays with DatetimeArray is no longer supported.  Instead of adding/subtracting `n`, use `n * obj.freq`"
     ]
    }
   ],
   "source": [
    "import pandas as pd\n",
    "\n",
    "def compare_rentals(df1, df2):\n",
    "    df_compare_rentals = pd.merge(df1, df2, on='customer_id', how='outer').fillna(0)\n",
    "    for col in df_compare_rentals.columns[1:]:  \n",
    "        if pd.api.types.is_numeric_dtype(df_compare_rentals[col]):\n",
    "            df_compare_rentals[col] = df_compare_rentals[col].astype(int)\n",
    "    if df_compare_rentals.shape[1] > 2:\n",
    "        df_compare_rentals['difference'] = df_compare_rentals.iloc[:, 1] - df_compare_rentals.iloc[:, 2]\n",
    "    return df_compare_rentals\n",
    "\n",
    "df_comparison = compare_rentals(df, df_rental_counts)\n",
    "\n",
    "print(df_comparison)\n"
   ]
  },
  {
   "cell_type": "code",
   "execution_count": null,
   "id": "cb993d08-b0b0-466d-8da3-77bd46447ef2",
   "metadata": {},
   "outputs": [],
   "source": []
  }
 ],
 "metadata": {
  "kernelspec": {
   "display_name": "Python 3 (ipykernel)",
   "language": "python",
   "name": "python3"
  },
  "language_info": {
   "codemirror_mode": {
    "name": "ipython",
    "version": 3
   },
   "file_extension": ".py",
   "mimetype": "text/x-python",
   "name": "python",
   "nbconvert_exporter": "python",
   "pygments_lexer": "ipython3",
   "version": "3.12.4"
  }
 },
 "nbformat": 4,
 "nbformat_minor": 5
}
